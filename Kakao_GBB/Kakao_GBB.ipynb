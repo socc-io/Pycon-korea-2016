{
 "cells": [
  {
   "cell_type": "code",
   "execution_count": 1,
   "metadata": {
    "collapsed": true
   },
   "outputs": [],
   "source": [
    "#becxer\n",
    "def mersenne_twister():\n",
    "    from datetime import datetime\n",
    "    mt_list = [0 for i in range(624)]\n",
    "    mt_idx = 0\n",
    "    bm_1 = (2 ** 32) - 1\n",
    "    bm_2 = 2 ** 31\n",
    "    bm_3 = (2 ** 31) - 1\n",
    "\n",
    "    now_time = datetime.now()\n",
    "    mt_list[0] = now_time.microsecond\n",
    "    for i in range(1, 624):\n",
    "        mt_list[i] = ((1812433253 * mt_list[i-1]) ^ \\\n",
    "                ((mt_list[i-1] >> 30) + i)) & bm_1\n",
    "    if mt_idx == 0:\n",
    "        for i in range(624):\n",
    "            tmp1 = (mt_list[i] & bm_2) + (mt_list[(i+1) % 624] & bm_3)\n",
    "            mt_list[i] = mt_list[(i+397) % 624] ^ (tmp1 >> 1)\n",
    "            if tmp1 % 2 != 0:\n",
    "                mt_list[i] ^= 2567483615\n",
    "    tmp2 = mt_list[mt_idx]\n",
    "    tmp2 ^= tmp2 >> 11\n",
    "    tmp2 ^= tmp2 >> 11\n",
    "    tmp2 ^= (tmp2 << 7) & 2636928640\n",
    "    tmp2 ^= (tmp2 << 15) & 4022730752\n",
    "    tmp2 ^= tmp2 >> 18\n",
    "    mt_idx = (mt_idx+1) % 624\n",
    "    return tmp2\n",
    "\n",
    "def show_me_the_hand_1(records):\n",
    "    choice = mersenne_twister() % 3\n",
    "    now_turn = len(records)\n",
    "    if now_turn <= 50:\n",
    "        return ['gawi', 'bawi', 'bo'][choice]\n",
    "    \n",
    "    hist = [0,0,0]\n",
    "    for rec in records:\n",
    "        if (rec[0] == 'gawi'):\n",
    "            hist[0] += 1\n",
    "        elif (rec[0] == 'bawi'):\n",
    "            hist[1] += 1\n",
    "        else :\n",
    "            hist[2] += 1\n",
    "\n",
    "    target = mersenne_twister() % now_turn + 1\n",
    "    if ( target <= hist[0] ):\n",
    "        return 'bawi'\n",
    "    elif (target <= hist[0] + hist[1]):\n",
    "        return 'bo'\n",
    "    else :\n",
    "        return 'gawi'"
   ]
  },
  {
   "cell_type": "code",
   "execution_count": 2,
   "metadata": {
    "collapsed": true
   },
   "outputs": [],
   "source": [
    "#Youngjin\n",
    "import math\n",
    "import random\n",
    "\n",
    "gawi_theta = math.pi / 6 # 30degree\n",
    "gawi_offset_x = math.cos(gawi_theta)\n",
    "gawi_offset_y = math.sin(gawi_theta)\n",
    "bawi_theta = math.pi * 5 / 6 # 150 degree\n",
    "bawi_offset_x = math.cos(bawi_theta)\n",
    "bawi_offset_y = math.sin(bawi.theta)\n",
    "bo_theta = math.pi * 3 /2 # 270 degree\n",
    "bo_offset_x = math.cos(bo_theta)\n",
    "bo_offset_y = math.sin(bo_theta)\n",
    "def show_me_the_hand(records) :\n",
    "    cur_x = 0\n",
    "    cur_y = 0\n",
    "    for record in records :\n",
    "        if(record[0] == 'gawi') :\n",
    "            cur_x += gawi_offset_x\n",
    "            cur_y += gawi_offset_y\n",
    "        elif(record[0] == 'bawi') :\n",
    "            cur_x += gawi_offset_x\n",
    "            cur_y += gawi_offset_y\n",
    "        else :\n",
    "            cur_x += bo_offset_x\n",
    "            cur_y += bo_offset_y\n",
    "    if cur_x == 0 : cur_theta = 0\n",
    "    else : cur_theta = math.atan(cur_y/cur_x)\n",
    "    if cur_x < 0 : cur_theta += math.pi\n",
    "    cur_theta += math.pi / 2\n",
    "    if(math.pi / 6 <= cur_theta <= math.pi / 2) : # expect 'gawi'\n",
    "        return 'bawi'\n",
    "    elif(math.pi / 2 <= cur_theta <= math.pi * 7 / 6) : #expect 'bawi'\n",
    "        return 'bo'\n",
    "    else :\n",
    "        return 'gawi'\n",
    "    "
   ]
  },
  {
   "cell_type": "code",
   "execution_count": 48,
   "metadata": {
    "collapsed": true
   },
   "outputs": [],
   "source": [
    "#Sujung\n",
    "\n",
    "rander = [0,1,2] * 333\n",
    "random.shuffle(rand_hand)                                                          \n",
    "def show_me_the_hand_3(records):                                                     \n",
    "    from random import choice                                                      \n",
    "    import random                                                                  \n",
    "    now_turn = len(records)                                                        \n",
    "    if now_turn <= 0:                                                              \n",
    "        return choice(['gawi', 'bawi', 'bo'])                                      \n",
    "    son = ['gawi', 'bawi', 'bo']                                                   \n",
    "    return son[rand_hand[now_turn-1]]"
   ]
  },
  {
   "cell_type": "code",
   "execution_count": 9,
   "metadata": {
    "collapsed": true
   },
   "outputs": [],
   "source": [
    "#Ohhyuk\n",
    "from random import choice\n",
    "draw_cnt = 1\n",
    "def show_me_the_hand_4(records):\n",
    "    global draw_cnt\n",
    "    if len(records) == 0:\n",
    "        return choice(['gawi', 'bawi', 'bo'])\n",
    "\n",
    "    if (records[-1][1] == 0):\n",
    "        draw_cnt += 1\n",
    "\n",
    "    if (draw_cnt == 5):\n",
    "        draw_cnt = 1\n",
    "        br = records[-1][0]\n",
    "        if br == 'gawi':\n",
    "            return 'bawi'\n",
    "        elif br == 'bowi':\n",
    "            return 'bo'\n",
    "        else:\n",
    "            return 'gawi'\n",
    "    else:\n",
    "        return records[-1][0]"
   ]
  },
  {
   "cell_type": "code",
   "execution_count": 5,
   "metadata": {
    "collapsed": false
   },
   "outputs": [
    {
     "name": "stdout",
     "output_type": "stream",
     "text": [
      "1 wins : 9962\n",
      "2 wins : 17\n"
     ]
    }
   ],
   "source": [
    "#Test CODE\n",
    "r1 = []\n",
    "r2 = []\n",
    "win_1 = 0\n",
    "win_2 = 0\n",
    "for i in range(10000):\n",
    "    h1 = show_me_the_hand_1(r2)\n",
    "    h2 = show_me_the_hand_2(r1)\n",
    "    if h1 == h2:\n",
    "        r = 0\n",
    "    elif (h1 == 'gawi' and h2 == 'bo') or (h1 == 'bawi' and h2 == 'gawi') or (h1 == 'bo' and h2 == 'bawi'):\n",
    "        win_1 +=1\n",
    "        r = 1\n",
    "    else:\n",
    "        win_2 += 1\n",
    "        r = -1\n",
    "    r1.append ((h1, r))\n",
    "    r2.append ((h2, -r))\n",
    "    \n",
    "print ('1 wins : ' + str(win_1))\n",
    "print ('2 wins : ' + str(win_2))"
   ]
  }
 ],
 "metadata": {
  "kernelspec": {
   "display_name": "Python 3",
   "language": "python",
   "name": "python3"
  },
  "language_info": {
   "codemirror_mode": {
    "name": "ipython",
    "version": 3
   },
   "file_extension": ".py",
   "mimetype": "text/x-python",
   "name": "python",
   "nbconvert_exporter": "python",
   "pygments_lexer": "ipython3",
   "version": "3.5.1+"
  }
 },
 "nbformat": 4,
 "nbformat_minor": 0
}
